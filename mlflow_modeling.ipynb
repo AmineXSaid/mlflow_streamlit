{
 "cells": [
  {
   "cell_type": "code",
   "execution_count": 1,
   "id": "8a82e6a4",
   "metadata": {},
   "outputs": [],
   "source": [
    "from keras.preprocessing.image import ImageDataGenerator\n",
    "from keras.models import Sequential\n",
    "from keras.layers import Conv2D, MaxPooling2D\n",
    "from keras.layers import Activation, Dropout, Flatten, Dense\n",
    "from keras import backend as K\n",
    "import tensorflow as tf\n",
    "from tensorflow.python.saved_model import signature_constants\n",
    "import mlflow\n",
    "import numpy as np\n",
    "img_width, img_height = 224, 224"
   ]
  },
  {
   "cell_type": "code",
   "execution_count": 2,
   "id": "4c7cac8e",
   "metadata": {},
   "outputs": [],
   "source": [
    "train_data_dir = 'v_data/train'\n",
    "validation_data_dir = 'v_data/test'\n",
    "nb_train_samples =400\n",
    "nb_validation_samples = 100\n",
    "epochs = 20\n",
    "batch_size = 16"
   ]
  },
  {
   "cell_type": "code",
   "execution_count": 3,
   "id": "23d8a498",
   "metadata": {},
   "outputs": [],
   "source": [
    "if K.image_data_format() == 'channels_first':\n",
    "    input_shape = (3, img_width, img_height)\n",
    "else:\n",
    "    input_shape = (img_width, img_height, 3)"
   ]
  },
  {
   "cell_type": "code",
   "execution_count": 4,
   "id": "4665ba45",
   "metadata": {},
   "outputs": [
    {
     "name": "stdout",
     "output_type": "stream",
     "text": [
      "Found 400 images belonging to 2 classes.\n",
      "Found 100 images belonging to 2 classes.\n"
     ]
    }
   ],
   "source": [
    "train_datagen = ImageDataGenerator(rescale=1. / 255,shear_range=0.2,zoom_range=0.2,horizontal_flip=True)\n",
    "\n",
    "test_datagen = ImageDataGenerator(rescale=1. / 255)\n",
    "\n",
    "train_generator = train_datagen.flow_from_directory(train_data_dir,target_size=(img_width, img_height),batch_size=batch_size,\n",
    "class_mode='categorical')\n",
    "\n",
    "validation_generator = test_datagen.flow_from_directory(\n",
    "    validation_data_dir,\n",
    "    target_size=(img_width, img_height),\n",
    "    batch_size=batch_size,\n",
    "    class_mode='categorical')"
   ]
  },
  {
   "cell_type": "code",
   "execution_count": 5,
   "id": "e1b90afc",
   "metadata": {},
   "outputs": [],
   "source": [
    "saved_model_path=r\"Model\"\n",
    "saved_model_path1=r\"Model1\"\n",
    "saved_model_path2=r\"Model2\""
   ]
  },
  {
   "cell_type": "code",
   "execution_count": 6,
   "id": "653684cf",
   "metadata": {},
   "outputs": [],
   "source": [
    "mlflow.set_tracking_uri(\"sqlite:///mlflow.db\")\n",
    "reg_model_name = \"First_Model\"\n",
    "mlflow.set_tracking_uri(\"http://localhost:5000\")\n",
    "tag=[tf.compat.v1.saved_model.tag_constants.SERVING]\n",
    "key=signature_constants.DEFAULT_SERVING_SIGNATURE_DEF_KEY"
   ]
  },
  {
   "cell_type": "code",
   "execution_count": 7,
   "id": "c7a6ffd0",
   "metadata": {
    "scrolled": true
   },
   "outputs": [
    {
     "name": "stdout",
     "output_type": "stream",
     "text": [
      "Epoch 1/20\n",
      "25/25 [==============================] - 8s 268ms/step - loss: 0.7034 - accuracy: 0.6400 - val_loss: 0.5549 - val_accuracy: 0.8750\n",
      "Epoch 2/20\n",
      "25/25 [==============================] - 7s 287ms/step - loss: 0.5299 - accuracy: 0.7500 - val_loss: 0.4509 - val_accuracy: 0.8646\n",
      "Epoch 3/20\n",
      "25/25 [==============================] - 8s 309ms/step - loss: 0.4494 - accuracy: 0.7950 - val_loss: 0.3825 - val_accuracy: 0.8854\n",
      "Epoch 4/20\n",
      "25/25 [==============================] - 7s 276ms/step - loss: 0.3984 - accuracy: 0.8450 - val_loss: 0.3221 - val_accuracy: 0.8750\n",
      "Epoch 5/20\n",
      "25/25 [==============================] - 7s 285ms/step - loss: 0.3286 - accuracy: 0.8775 - val_loss: 0.2817 - val_accuracy: 0.8958\n",
      "Epoch 6/20\n",
      "25/25 [==============================] - 7s 267ms/step - loss: 0.3140 - accuracy: 0.8625 - val_loss: 0.2863 - val_accuracy: 0.8854\n",
      "Epoch 7/20\n",
      "25/25 [==============================] - 7s 271ms/step - loss: 0.2749 - accuracy: 0.8700 - val_loss: 0.3062 - val_accuracy: 0.8750\n",
      "Epoch 8/20\n",
      "25/25 [==============================] - 7s 271ms/step - loss: 0.2513 - accuracy: 0.8950 - val_loss: 0.3129 - val_accuracy: 0.8854\n",
      "Epoch 9/20\n",
      "25/25 [==============================] - 7s 279ms/step - loss: 0.2552 - accuracy: 0.9000 - val_loss: 0.4706 - val_accuracy: 0.8021\n",
      "Epoch 10/20\n",
      "25/25 [==============================] - 7s 274ms/step - loss: 0.1984 - accuracy: 0.9225 - val_loss: 0.2764 - val_accuracy: 0.9062\n",
      "Epoch 11/20\n",
      "25/25 [==============================] - 7s 292ms/step - loss: 0.2430 - accuracy: 0.9150 - val_loss: 0.4382 - val_accuracy: 0.8125\n",
      "Epoch 12/20\n",
      "25/25 [==============================] - 8s 309ms/step - loss: 0.2648 - accuracy: 0.8900 - val_loss: 0.2985 - val_accuracy: 0.8646\n",
      "Epoch 13/20\n",
      "25/25 [==============================] - 7s 280ms/step - loss: 0.2640 - accuracy: 0.8825 - val_loss: 0.4780 - val_accuracy: 0.7812\n",
      "Epoch 14/20\n",
      "25/25 [==============================] - 7s 276ms/step - loss: 0.2619 - accuracy: 0.8775 - val_loss: 0.3289 - val_accuracy: 0.8021\n",
      "Epoch 15/20\n",
      "25/25 [==============================] - 7s 282ms/step - loss: 0.1800 - accuracy: 0.9200 - val_loss: 0.3204 - val_accuracy: 0.8646\n",
      "Epoch 16/20\n",
      "25/25 [==============================] - 8s 298ms/step - loss: 0.1722 - accuracy: 0.9350 - val_loss: 0.4035 - val_accuracy: 0.8229\n",
      "Epoch 17/20\n",
      "25/25 [==============================] - 7s 277ms/step - loss: 0.1798 - accuracy: 0.9200 - val_loss: 0.2840 - val_accuracy: 0.8854\n",
      "Epoch 18/20\n",
      "25/25 [==============================] - 8s 298ms/step - loss: 0.1791 - accuracy: 0.9400 - val_loss: 0.2873 - val_accuracy: 0.8958\n",
      "Epoch 19/20\n",
      "25/25 [==============================] - 7s 278ms/step - loss: 0.1392 - accuracy: 0.9375 - val_loss: 0.5875 - val_accuracy: 0.8125\n",
      "Epoch 20/20\n",
      "25/25 [==============================] - 7s 288ms/step - loss: 0.0986 - accuracy: 0.9625 - val_loss: 0.3800 - val_accuracy: 0.8333\n"
     ]
    },
    {
     "name": "stderr",
     "output_type": "stream",
     "text": [
      "WARNING:absl:Found untraced functions such as _jit_compiled_convolution_op, _jit_compiled_convolution_op, _jit_compiled_convolution_op while saving (showing 3 of 3). These functions will not be directly callable after loading.\n"
     ]
    },
    {
     "name": "stdout",
     "output_type": "stream",
     "text": [
      "INFO:tensorflow:Assets written to: Model\\assets\n"
     ]
    },
    {
     "name": "stderr",
     "output_type": "stream",
     "text": [
      "INFO:tensorflow:Assets written to: Model\\assets\n",
      "2022/10/19 20:39:32 INFO mlflow.tensorflow: Validating the specified TensorFlow model by attempting to load it in a new TensorFlow graph...\n",
      "2022/10/19 20:39:33 INFO mlflow.tensorflow: Validation succeeded!\n",
      "C:\\Users\\med-a\\anaconda3\\lib\\site-packages\\_distutils_hack\\__init__.py:30: UserWarning: Setuptools is replacing distutils.\n",
      "  warnings.warn(\"Setuptools is replacing distutils.\")\n",
      "Successfully registered model 'First_Model'.\n",
      "2022/10/19 20:39:42 INFO mlflow.tracking._model_registry.client: Waiting up to 300 seconds for model version to finish creation.                     Model name: First_Model, version 1\n",
      "Created version '1' of model 'First_Model'.\n"
     ]
    }
   ],
   "source": [
    "with mlflow.start_run():\n",
    "    model = Sequential()\n",
    "    model.add(Conv2D(32, (2, 2), input_shape=input_shape))\n",
    "    model.add(Activation('relu'))\n",
    "    model.add(MaxPooling2D(pool_size=(2, 2)))\n",
    "\n",
    "    model.add(Conv2D(32, (2, 2)))\n",
    "    model.add(Activation('relu'))\n",
    "    model.add(MaxPooling2D(pool_size=(2, 2)))\n",
    "    model.add(Dropout(0.2))\n",
    "    model.add(Conv2D(64, (2, 2)))\n",
    "    model.add(Activation('relu'))\n",
    "    model.add(MaxPooling2D(pool_size=(2, 2)))\n",
    "    model.add(Dropout(0.2))\n",
    "    model.add(Flatten())\n",
    "    model.add(Dense(64))\n",
    "    model.add(Activation('relu'))\n",
    "    model.add(Dense(32))\n",
    "    model.add(Activation('relu'))\n",
    "    model.add(Dropout(0.2))\n",
    "    model.add(Dense(2))\n",
    "    model.add(Activation('softmax'))\n",
    "    model.compile(loss='categorical_crossentropy', optimizer='adam', metrics=['accuracy'])\n",
    "    history=model.fit(\n",
    "        train_generator,\n",
    "        steps_per_epoch=nb_train_samples // batch_size,\n",
    "        epochs=epochs,\n",
    "        validation_data=validation_generator,\n",
    "        validation_steps=nb_validation_samples // batch_size)\n",
    "    tf.keras.models.save_model(model,saved_model_path)\n",
    "    mlflow.tensorflow.log_model(tf_saved_model_dir=saved_model_path,\n",
    "                                tf_meta_graph_tags=tag,\n",
    "                                tf_signature_def_key=key,\n",
    "                                artifact_path=saved_model_path,\n",
    "                                registered_model_name=reg_model_name)\n",
    "    for i in history.history:\n",
    "        history.history[i]=history.history[i][-1]\n",
    "    mlflow.log_metrics(history.history)"
   ]
  },
  {
   "cell_type": "code",
   "execution_count": 8,
   "id": "550b92b9",
   "metadata": {},
   "outputs": [
    {
     "name": "stdout",
     "output_type": "stream",
     "text": [
      "1/1 [==============================] - 0s 125ms/step\n",
      "Predicted Class Planes\n"
     ]
    }
   ],
   "source": [
    "from tensorflow.keras.utils import load_img\n",
    "image = load_img('v_data/test/planes/3.jpg', target_size=(224, 224))\n",
    "img = np.array(image)\n",
    "img = img / 255.0\n",
    "img = img.reshape(1,224,224,3)\n",
    "label = model.predict(img)\n",
    "if (label[0][0]<0.5) and (label[0][1]<0.5) :\n",
    "    print(\"This is NOT a car NOR a plane\")\n",
    "elif label[0][0]<label[0][1]  :\n",
    "    print(\"Predicted Class Planes\")\n",
    "else :\n",
    "    print(\"Predicted Class Cars\")"
   ]
  },
  {
   "cell_type": "code",
   "execution_count": 9,
   "id": "fdb5d357",
   "metadata": {},
   "outputs": [
    {
     "name": "stdout",
     "output_type": "stream",
     "text": [
      "Epoch 1/20\n",
      "25/25 [==============================] - 8s 297ms/step - loss: 1.9404 - accuracy: 0.5900 - val_loss: 0.4070 - val_accuracy: 0.8229\n",
      "Epoch 2/20\n",
      "25/25 [==============================] - 7s 279ms/step - loss: 0.6171 - accuracy: 0.7125 - val_loss: 0.2425 - val_accuracy: 0.8750\n",
      "Epoch 3/20\n",
      "25/25 [==============================] - 7s 294ms/step - loss: 0.4147 - accuracy: 0.7875 - val_loss: 0.1937 - val_accuracy: 0.9375\n",
      "Epoch 4/20\n",
      "25/25 [==============================] - 7s 287ms/step - loss: 0.3495 - accuracy: 0.8425 - val_loss: 0.2208 - val_accuracy: 0.9167\n",
      "Epoch 5/20\n",
      "25/25 [==============================] - 7s 291ms/step - loss: 0.3296 - accuracy: 0.8600 - val_loss: 0.2484 - val_accuracy: 0.9271\n",
      "Epoch 6/20\n",
      "25/25 [==============================] - 7s 295ms/step - loss: 0.3334 - accuracy: 0.8625 - val_loss: 0.3066 - val_accuracy: 0.8542\n",
      "Epoch 7/20\n",
      "25/25 [==============================] - 8s 311ms/step - loss: 0.2589 - accuracy: 0.8975 - val_loss: 0.2717 - val_accuracy: 0.8854\n",
      "Epoch 8/20\n",
      "25/25 [==============================] - 8s 307ms/step - loss: 0.2674 - accuracy: 0.8900 - val_loss: 0.3514 - val_accuracy: 0.8542\n",
      "Epoch 9/20\n",
      "25/25 [==============================] - 8s 306ms/step - loss: 0.2661 - accuracy: 0.8850 - val_loss: 0.4696 - val_accuracy: 0.8333\n",
      "Epoch 10/20\n",
      "25/25 [==============================] - 7s 276ms/step - loss: 0.2305 - accuracy: 0.9250 - val_loss: 0.4356 - val_accuracy: 0.8438\n",
      "Epoch 11/20\n",
      "25/25 [==============================] - 7s 289ms/step - loss: 0.2237 - accuracy: 0.9200 - val_loss: 0.2742 - val_accuracy: 0.8646\n",
      "Epoch 12/20\n",
      "25/25 [==============================] - 8s 309ms/step - loss: 0.2062 - accuracy: 0.9200 - val_loss: 0.2774 - val_accuracy: 0.8958\n",
      "Epoch 13/20\n",
      "25/25 [==============================] - 8s 302ms/step - loss: 0.1625 - accuracy: 0.9525 - val_loss: 0.3352 - val_accuracy: 0.8542\n",
      "Epoch 14/20\n",
      "25/25 [==============================] - 7s 292ms/step - loss: 0.1960 - accuracy: 0.9275 - val_loss: 0.4368 - val_accuracy: 0.8542\n",
      "Epoch 15/20\n",
      "25/25 [==============================] - 7s 285ms/step - loss: 0.1782 - accuracy: 0.9400 - val_loss: 0.3241 - val_accuracy: 0.8750\n",
      "Epoch 16/20\n",
      "25/25 [==============================] - 7s 275ms/step - loss: 0.1512 - accuracy: 0.9400 - val_loss: 0.5331 - val_accuracy: 0.8438\n",
      "Epoch 17/20\n",
      "25/25 [==============================] - 7s 278ms/step - loss: 0.1434 - accuracy: 0.9400 - val_loss: 0.2787 - val_accuracy: 0.9062\n",
      "Epoch 18/20\n",
      "25/25 [==============================] - 7s 290ms/step - loss: 0.1810 - accuracy: 0.9425 - val_loss: 0.2682 - val_accuracy: 0.9167\n",
      "Epoch 19/20\n",
      "25/25 [==============================] - 7s 280ms/step - loss: 0.1316 - accuracy: 0.9475 - val_loss: 0.3710 - val_accuracy: 0.8542\n",
      "Epoch 20/20\n",
      "25/25 [==============================] - 8s 307ms/step - loss: 0.1408 - accuracy: 0.9550 - val_loss: 0.3486 - val_accuracy: 0.8750\n"
     ]
    },
    {
     "name": "stderr",
     "output_type": "stream",
     "text": [
      "WARNING:absl:Found untraced functions such as _jit_compiled_convolution_op, _jit_compiled_convolution_op, _jit_compiled_convolution_op while saving (showing 3 of 3). These functions will not be directly callable after loading.\n"
     ]
    },
    {
     "name": "stdout",
     "output_type": "stream",
     "text": [
      "INFO:tensorflow:Assets written to: Model1\\assets\n"
     ]
    },
    {
     "name": "stderr",
     "output_type": "stream",
     "text": [
      "INFO:tensorflow:Assets written to: Model1\\assets\n",
      "2022/10/19 20:42:15 INFO mlflow.tensorflow: Validating the specified TensorFlow model by attempting to load it in a new TensorFlow graph...\n",
      "2022/10/19 20:42:16 INFO mlflow.tensorflow: Validation succeeded!\n",
      "Registered model 'Second Model' already exists. Creating a new version of this model...\n",
      "2022/10/19 20:42:24 INFO mlflow.tracking._model_registry.client: Waiting up to 300 seconds for model version to finish creation.                     Model name: Second Model, version 2\n",
      "Created version '2' of model 'Second Model'.\n"
     ]
    }
   ],
   "source": [
    "reg_model_name1=\"Second Model\"\n",
    "with mlflow.start_run():\n",
    "    model1 = Sequential()\n",
    "    model1.add(Conv2D(32, (2, 2)))\n",
    "    model1.add(Activation('relu'))\n",
    "    model1.add(MaxPooling2D(pool_size=(2, 2)))\n",
    "    model1.add(Dropout(0.2))\n",
    "    model1.add(Flatten())\n",
    "    model1.add(Dense(64))\n",
    "    model1.add(Activation('relu'))\n",
    "    model1.add(Dense(32))\n",
    "    model1.add(Activation('relu'))\n",
    "    model1.add(Dropout(0.2))\n",
    "    model1.add(Dense(2))\n",
    "    model1.add(Activation('softmax'))\n",
    "    model1.compile(loss='categorical_crossentropy', optimizer='adam', metrics=['accuracy'])\n",
    "    history=model1.fit(\n",
    "        train_generator,\n",
    "        steps_per_epoch=nb_train_samples // batch_size,\n",
    "        epochs=epochs,\n",
    "        validation_data=validation_generator,\n",
    "        validation_steps=nb_validation_samples // batch_size)\n",
    "    tf.keras.models.save_model(model,saved_model_path1)\n",
    "    mlflow.tensorflow.log_model(tf_saved_model_dir=saved_model_path1,\n",
    "                                tf_meta_graph_tags=tag,\n",
    "                                tf_signature_def_key=key,\n",
    "                                artifact_path=saved_model_path1,\n",
    "                                registered_model_name=reg_model_name1)\n",
    "    for i in history.history:\n",
    "        history.history[i]=history.history[i][-1]\n",
    "    mlflow.log_metrics(history.history)"
   ]
  },
  {
   "cell_type": "code",
   "execution_count": 10,
   "id": "25dd9240",
   "metadata": {},
   "outputs": [
    {
     "name": "stdout",
     "output_type": "stream",
     "text": [
      "Epoch 1/20\n",
      "25/25 [==============================] - 19s 705ms/step - loss: 0.7310 - accuracy: 0.5050 - val_loss: 0.6927 - val_accuracy: 0.4896\n",
      "Epoch 2/20\n",
      "25/25 [==============================] - 18s 729ms/step - loss: 0.6320 - accuracy: 0.6750 - val_loss: 0.6059 - val_accuracy: 0.5833\n",
      "Epoch 3/20\n",
      "25/25 [==============================] - 19s 761ms/step - loss: 0.5662 - accuracy: 0.7250 - val_loss: 0.5484 - val_accuracy: 0.6458\n",
      "Epoch 4/20\n",
      "25/25 [==============================] - 18s 731ms/step - loss: 0.4285 - accuracy: 0.7975 - val_loss: 0.4751 - val_accuracy: 0.8229\n",
      "Epoch 5/20\n",
      "25/25 [==============================] - 19s 741ms/step - loss: 0.3437 - accuracy: 0.8450 - val_loss: 0.4795 - val_accuracy: 0.8021\n",
      "Epoch 6/20\n",
      "25/25 [==============================] - 18s 713ms/step - loss: 0.3287 - accuracy: 0.8550 - val_loss: 0.4531 - val_accuracy: 0.8229\n",
      "Epoch 7/20\n",
      "25/25 [==============================] - 18s 704ms/step - loss: 0.3279 - accuracy: 0.8600 - val_loss: 0.4276 - val_accuracy: 0.8125\n",
      "Epoch 8/20\n",
      "25/25 [==============================] - 18s 708ms/step - loss: 0.2858 - accuracy: 0.8775 - val_loss: 0.4359 - val_accuracy: 0.8125\n",
      "Epoch 9/20\n",
      "25/25 [==============================] - 19s 734ms/step - loss: 0.3083 - accuracy: 0.8975 - val_loss: 0.5270 - val_accuracy: 0.7188\n",
      "Epoch 10/20\n",
      "25/25 [==============================] - 19s 737ms/step - loss: 0.3259 - accuracy: 0.8700 - val_loss: 0.4091 - val_accuracy: 0.7812\n",
      "Epoch 11/20\n",
      "25/25 [==============================] - 17s 691ms/step - loss: 0.2705 - accuracy: 0.8925 - val_loss: 0.3985 - val_accuracy: 0.8229\n",
      "Epoch 12/20\n",
      "25/25 [==============================] - 17s 670ms/step - loss: 0.2431 - accuracy: 0.8975 - val_loss: 0.3502 - val_accuracy: 0.8750\n",
      "Epoch 13/20\n",
      "25/25 [==============================] - 16s 648ms/step - loss: 0.2502 - accuracy: 0.8975 - val_loss: 0.3998 - val_accuracy: 0.8125\n",
      "Epoch 14/20\n",
      "25/25 [==============================] - 17s 678ms/step - loss: 0.2137 - accuracy: 0.9100 - val_loss: 0.4145 - val_accuracy: 0.8125\n",
      "Epoch 15/20\n",
      "25/25 [==============================] - 17s 657ms/step - loss: 0.2015 - accuracy: 0.9225 - val_loss: 0.3672 - val_accuracy: 0.8125\n",
      "Epoch 16/20\n",
      "25/25 [==============================] - 17s 657ms/step - loss: 0.2370 - accuracy: 0.9025 - val_loss: 0.4102 - val_accuracy: 0.8229\n",
      "Epoch 17/20\n",
      "25/25 [==============================] - 17s 695ms/step - loss: 0.2124 - accuracy: 0.9175 - val_loss: 0.3432 - val_accuracy: 0.8438\n",
      "Epoch 18/20\n",
      "25/25 [==============================] - 18s 700ms/step - loss: 0.1838 - accuracy: 0.9175 - val_loss: 0.4034 - val_accuracy: 0.8229\n",
      "Epoch 19/20\n",
      "25/25 [==============================] - 17s 659ms/step - loss: 0.1886 - accuracy: 0.9350 - val_loss: 0.3338 - val_accuracy: 0.8542\n",
      "Epoch 20/20\n",
      "25/25 [==============================] - 17s 665ms/step - loss: 0.1831 - accuracy: 0.9325 - val_loss: 0.3278 - val_accuracy: 0.8333\n"
     ]
    },
    {
     "name": "stderr",
     "output_type": "stream",
     "text": [
      "WARNING:absl:Found untraced functions such as _jit_compiled_convolution_op, _jit_compiled_convolution_op, _jit_compiled_convolution_op, _jit_compiled_convolution_op while saving (showing 4 of 4). These functions will not be directly callable after loading.\n"
     ]
    },
    {
     "name": "stdout",
     "output_type": "stream",
     "text": [
      "INFO:tensorflow:Assets written to: Model2\\assets\n"
     ]
    },
    {
     "name": "stderr",
     "output_type": "stream",
     "text": [
      "INFO:tensorflow:Assets written to: Model2\\assets\n",
      "2022/10/19 20:48:21 INFO mlflow.tensorflow: Validating the specified TensorFlow model by attempting to load it in a new TensorFlow graph...\n",
      "2022/10/19 20:48:22 INFO mlflow.tensorflow: Validation succeeded!\n",
      "Registered model 'Third Model' already exists. Creating a new version of this model...\n",
      "2022/10/19 20:48:31 INFO mlflow.tracking._model_registry.client: Waiting up to 300 seconds for model version to finish creation.                     Model name: Third Model, version 2\n",
      "Created version '2' of model 'Third Model'.\n"
     ]
    }
   ],
   "source": [
    "reg_model_name2=\"Third Model\"\n",
    "with mlflow.start_run():\n",
    "    model2 = Sequential()\n",
    "    model2.add(Conv2D(64, (2, 2), input_shape=input_shape))\n",
    "    model2.add(Activation('relu'))\n",
    "    model2.add(Dropout(0.5))\n",
    "    model2.add(MaxPooling2D(pool_size=(2, 2)))\n",
    "    model2.add(Conv2D(32, (2, 2), input_shape=input_shape))\n",
    "    model2.add(Activation('relu'))\n",
    "    model2.add(MaxPooling2D(pool_size=(2, 2)))\n",
    "    model2.add(Dropout(0.2))\n",
    "    model2.add(Conv2D(32, (2, 2)))\n",
    "    model2.add(Activation('relu'))\n",
    "    model2.add(MaxPooling2D(pool_size=(2, 2)))\n",
    "    model2.add(Dropout(0.2))\n",
    "    model2.add(Conv2D(64, (2, 2)))\n",
    "    model2.add(Activation('relu'))\n",
    "    model2.add(MaxPooling2D(pool_size=(2, 2)))\n",
    "    model2.add(Dropout(0.2))\n",
    "    model2.add(Flatten())\n",
    "    model2.add(Dense(64))\n",
    "    model2.add(Activation('relu'))\n",
    "    model2.add(Dense(32))\n",
    "    model2.add(Activation('relu'))\n",
    "    model2.add(Dropout(0.2))\n",
    "    model2.add(Dense(2))\n",
    "    model2.add(Activation('softmax'))\n",
    "    model2.compile(loss='categorical_crossentropy', optimizer='adam', metrics=['accuracy'])\n",
    "    history=model2.fit(\n",
    "        train_generator,\n",
    "        steps_per_epoch=nb_train_samples // batch_size,\n",
    "        epochs=epochs,\n",
    "        validation_data=validation_generator,\n",
    "        validation_steps=nb_validation_samples // batch_size)\n",
    "    tf.keras.models.save_model(model2,saved_model_path2)\n",
    "    mlflow.tensorflow.log_model(tf_saved_model_dir=saved_model_path2,\n",
    "                                tf_meta_graph_tags=tag,\n",
    "                                tf_signature_def_key=key,\n",
    "                                artifact_path=saved_model_path2,\n",
    "                                registered_model_name=reg_model_name2)\n",
    "    for i in history.history:\n",
    "        history.history[i]=history.history[i][-1]\n",
    "    mlflow.log_metrics(history.history)"
   ]
  }
 ],
 "metadata": {
  "kernelspec": {
   "display_name": "Python 3 (ipykernel)",
   "language": "python",
   "name": "python3"
  },
  "language_info": {
   "codemirror_mode": {
    "name": "ipython",
    "version": 3
   },
   "file_extension": ".py",
   "mimetype": "text/x-python",
   "name": "python",
   "nbconvert_exporter": "python",
   "pygments_lexer": "ipython3",
   "version": "3.9.12"
  }
 },
 "nbformat": 4,
 "nbformat_minor": 5
}
